{
 "cells": [
  {
   "cell_type": "code",
   "execution_count": 2,
   "id": "ffc5861c",
   "metadata": {},
   "outputs": [],
   "source": [
    "import requests\n",
    "from bs4 import BeautifulSoup\n",
    "import pandas as pd\n",
    "import numpy as np\n",
    "import re\n",
    "import datetime as dt\n",
    "import locale\n",
    "from tqdm import tqdm\n",
    "import geopandas as gpd\n",
    "from shapely.geometry import Point\n",
    "import matplotlib.pyplot as plt\n",
    "import contextily as ctx"
   ]
  },
  {
   "cell_type": "code",
   "execution_count": 3,
   "id": "82332fcd",
   "metadata": {},
   "outputs": [
    {
     "data": {
      "text/html": [
       "<style>.container { width:90% !important; }</style>"
      ],
      "text/plain": [
       "<IPython.core.display.HTML object>"
      ]
     },
     "metadata": {},
     "output_type": "display_data"
    }
   ],
   "source": [
    "from IPython.display import display, HTML\n",
    "display(HTML(\"<style>.container { width:90% !important; }</style>\"))\n",
    "pd.set_option('display.max_columns', None)"
   ]
  },
  {
   "cell_type": "code",
   "execution_count": 4,
   "id": "2d9f2825",
   "metadata": {},
   "outputs": [],
   "source": [
    "def get_coordinates(address, api_key):\n",
    "    # URL for Google Geocoding API\n",
    "    url = 'https://maps.googleapis.com/maps/api/geocode/json'\n",
    "\n",
    "    # Parametere for API-forespørselen\n",
    "    params = {\n",
    "        'address': address,\n",
    "        'key': api_key\n",
    "    }\n",
    "\n",
    "    # Send forespørselen og motta responsen\n",
    "    response = requests.get(url, params=params)\n",
    "\n",
    "    # Konverter responsen til JSON\n",
    "    data = response.json()\n",
    "\n",
    "    # Sjekk om forespørselen var vellykket\n",
    "    if data['status'] == 'OK':\n",
    "        # Hent koordinatene fra responsen\n",
    "        latitude = data['results'][0]['geometry']['location']['lat']\n",
    "        longitude = data['results'][0]['geometry']['location']['lng']\n",
    "        return latitude, longitude\n",
    "    else:\n",
    "        # Håndter feil eller manglende resultater\n",
    "        print('Error or no results found')\n",
    "        return None, None"
   ]
  },
  {
   "cell_type": "code",
   "execution_count": null,
   "id": "ddafda66",
   "metadata": {},
   "outputs": [],
   "source": [
    "api_key = 'foo'\n",
    "address = 'bar'\n",
    "\n",
    "get_coordinates(address, api_key)"
   ]
  }
 ],
 "metadata": {
  "kernelspec": {
   "display_name": "Python 3 (ipykernel)",
   "language": "python",
   "name": "python3"
  },
  "language_info": {
   "codemirror_mode": {
    "name": "ipython",
    "version": 3
   },
   "file_extension": ".py",
   "mimetype": "text/x-python",
   "name": "python",
   "nbconvert_exporter": "python",
   "pygments_lexer": "ipython3",
   "version": "3.11.4"
  }
 },
 "nbformat": 4,
 "nbformat_minor": 5
}
